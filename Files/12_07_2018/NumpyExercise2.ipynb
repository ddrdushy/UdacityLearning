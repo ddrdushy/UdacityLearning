{
 "cells": [
  {
   "cell_type": "code",
   "execution_count": 1,
   "metadata": {},
   "outputs": [
    {
     "data": {
      "text/plain": [
       "array([1, 2, 3, 4, 5])"
      ]
     },
     "execution_count": 1,
     "metadata": {},
     "output_type": "execute_result"
    }
   ],
   "source": [
    "import numpy as np\n",
    " \n",
    "my_list = [1, 2, 3, 4, 5]\n",
    "np.array(my_list)"
   ]
  },
  {
   "cell_type": "code",
   "execution_count": 2,
   "metadata": {},
   "outputs": [
    {
     "name": "stdout",
     "output_type": "stream",
     "text": [
      "[[ 0.  0.  0.  0.]\n",
      " [ 0.  0.  0.  0.]\n",
      " [ 0.  0.  0.  0.]]\n"
     ]
    }
   ],
   "source": [
    "x = np.zeros((3,4))\n",
    "print (x)"
   ]
  },
  {
   "cell_type": "code",
   "execution_count": 3,
   "metadata": {},
   "outputs": [
    {
     "name": "stdout",
     "output_type": "stream",
     "text": [
      "dType:  float64\n"
     ]
    }
   ],
   "source": [
    "print ('dType: ', x.dtype)"
   ]
  },
  {
   "cell_type": "code",
   "execution_count": 4,
   "metadata": {},
   "outputs": [
    {
     "name": "stdout",
     "output_type": "stream",
     "text": [
      "[[0 0 0 0]\n",
      " [0 0 0 0]\n",
      " [0 0 0 0]]\n",
      "dType:  int32\n"
     ]
    }
   ],
   "source": [
    "x = np.zeros((3,4),dtype=int)\n",
    "print (x)\n",
    "print ('dType: ', x.dtype)"
   ]
  },
  {
   "cell_type": "code",
   "execution_count": 5,
   "metadata": {},
   "outputs": [
    {
     "name": "stdout",
     "output_type": "stream",
     "text": [
      "[[ 1.  1.  1.]\n",
      " [ 1.  1.  1.]\n",
      " [ 1.  1.  1.]\n",
      " [ 1.  1.  1.]]\n"
     ]
    }
   ],
   "source": [
    "x = np.ones((4,3))\n",
    "print (x)"
   ]
  },
  {
   "cell_type": "code",
   "execution_count": 6,
   "metadata": {},
   "outputs": [
    {
     "name": "stdout",
     "output_type": "stream",
     "text": [
      "[[5 5 5 5 5]\n",
      " [5 5 5 5 5]\n",
      " [5 5 5 5 5]\n",
      " [5 5 5 5 5]]\n"
     ]
    }
   ],
   "source": [
    "x = np.full((4,5),5)\n",
    "print (x)"
   ]
  },
  {
   "cell_type": "code",
   "execution_count": 7,
   "metadata": {},
   "outputs": [
    {
     "name": "stdout",
     "output_type": "stream",
     "text": [
      "dType:  int32\n"
     ]
    }
   ],
   "source": [
    "print('dType: ', x.dtype)"
   ]
  },
  {
   "cell_type": "code",
   "execution_count": 8,
   "metadata": {},
   "outputs": [
    {
     "name": "stdout",
     "output_type": "stream",
     "text": [
      "[[ 1.  0.  0.  0.  0.]\n",
      " [ 0.  1.  0.  0.  0.]\n",
      " [ 0.  0.  1.  0.  0.]\n",
      " [ 0.  0.  0.  1.  0.]\n",
      " [ 0.  0.  0.  0.  1.]]\n"
     ]
    }
   ],
   "source": [
    "x = np.eye(5)\n",
    "print (x)"
   ]
  },
  {
   "cell_type": "code",
   "execution_count": 9,
   "metadata": {},
   "outputs": [
    {
     "name": "stdout",
     "output_type": "stream",
     "text": [
      "[[10  0  0  0]\n",
      " [ 0 20  0  0]\n",
      " [ 0  0 30  0]\n",
      " [ 0  0  0 40]]\n"
     ]
    }
   ],
   "source": [
    "x = np.diag([10,20,30,40])\n",
    "print (x)"
   ]
  },
  {
   "cell_type": "markdown",
   "metadata": {},
   "source": [
    "`arange` function accepts 3 arguments\n",
    "`np.arange(start, stop, step)`"
   ]
  },
  {
   "cell_type": "code",
   "execution_count": 13,
   "metadata": {},
   "outputs": [
    {
     "name": "stdout",
     "output_type": "stream",
     "text": [
      "[0 1 2 3 4 5 6 7 8 9]\n"
     ]
    }
   ],
   "source": [
    "x = np.arange(10)\n",
    "print (x)"
   ]
  },
  {
   "cell_type": "markdown",
   "metadata": {},
   "source": [
    "Start is inclusive, Stop is exclusive"
   ]
  },
  {
   "cell_type": "code",
   "execution_count": 14,
   "metadata": {},
   "outputs": [
    {
     "name": "stdout",
     "output_type": "stream",
     "text": [
      "[4 5 6 7 8 9]\n"
     ]
    }
   ],
   "source": [
    "x = np.arange(4, 10)\n",
    "print(x)"
   ]
  },
  {
   "cell_type": "code",
   "execution_count": 15,
   "metadata": {},
   "outputs": [
    {
     "name": "stdout",
     "output_type": "stream",
     "text": [
      "[ 4  7 10 13]\n"
     ]
    }
   ],
   "source": [
    "x = np.arange(4, 14, 3)\n",
    "print (x)"
   ]
  },
  {
   "cell_type": "markdown",
   "metadata": {},
   "source": [
    "### `linspace` - start and stop inclusive"
   ]
  },
  {
   "cell_type": "code",
   "execution_count": 16,
   "metadata": {},
   "outputs": [
    {
     "name": "stdout",
     "output_type": "stream",
     "text": [
      "[  0.           2.77777778   5.55555556   8.33333333  11.11111111\n",
      "  13.88888889  16.66666667  19.44444444  22.22222222  25.        ]\n"
     ]
    }
   ],
   "source": [
    "x = np.linspace(0, 25, 10)\n",
    "print (x)"
   ]
  },
  {
   "cell_type": "code",
   "execution_count": 17,
   "metadata": {},
   "outputs": [
    {
     "name": "stdout",
     "output_type": "stream",
     "text": [
      "[  0.    2.5   5.    7.5  10.   12.5  15.   17.5  20.   22.5]\n"
     ]
    }
   ],
   "source": [
    "x = np.linspace(0, 25, 10, endpoint=False)\n",
    "print (x)"
   ]
  },
  {
   "cell_type": "markdown",
   "metadata": {},
   "source": [
    "### Creating Rank 2 arrays (2D array)"
   ]
  },
  {
   "cell_type": "code",
   "execution_count": 18,
   "metadata": {},
   "outputs": [
    {
     "name": "stdout",
     "output_type": "stream",
     "text": [
      "[ 0  1  2  3  4  5  6  7  8  9 10 11 12 13 14 15 16 17 18 19]\n"
     ]
    }
   ],
   "source": [
    "x = np.arange(20)\n",
    "print (x)"
   ]
  },
  {
   "cell_type": "code",
   "execution_count": 19,
   "metadata": {},
   "outputs": [
    {
     "name": "stdout",
     "output_type": "stream",
     "text": [
      "[[ 0  1  2  3  4]\n",
      " [ 5  6  7  8  9]\n",
      " [10 11 12 13 14]\n",
      " [15 16 17 18 19]]\n"
     ]
    }
   ],
   "source": [
    "x = np.reshape(x, (4,5))\n",
    "print(x)"
   ]
  },
  {
   "cell_type": "code",
   "execution_count": 20,
   "metadata": {},
   "outputs": [
    {
     "name": "stdout",
     "output_type": "stream",
     "text": [
      "[[ 0  1]\n",
      " [ 2  3]\n",
      " [ 4  5]\n",
      " [ 6  7]\n",
      " [ 8  9]\n",
      " [10 11]\n",
      " [12 13]\n",
      " [14 15]\n",
      " [16 17]\n",
      " [18 19]]\n"
     ]
    }
   ],
   "source": [
    "x = np.reshape(x, (10,2))\n",
    "print (x)"
   ]
  },
  {
   "cell_type": "code",
   "execution_count": 21,
   "metadata": {},
   "outputs": [
    {
     "name": "stdout",
     "output_type": "stream",
     "text": [
      "[[ 0  1]\n",
      " [ 2  3]\n",
      " [ 4  5]\n",
      " [ 6  7]\n",
      " [ 8  9]\n",
      " [10 11]\n",
      " [12 13]\n",
      " [14 15]\n",
      " [16 17]\n",
      " [18 19]]\n"
     ]
    }
   ],
   "source": [
    "y = np.arange(20).reshape((10,2))\n",
    "print (y)"
   ]
  },
  {
   "cell_type": "code",
   "execution_count": 22,
   "metadata": {},
   "outputs": [
    {
     "name": "stdout",
     "output_type": "stream",
     "text": [
      "[[  0.   5.]\n",
      " [ 10.  15.]\n",
      " [ 20.  25.]\n",
      " [ 30.  35.]\n",
      " [ 40.  45.]]\n"
     ]
    }
   ],
   "source": [
    "x = np.linspace(0, 50, 10, endpoint=False).reshape((5,2))\n",
    "print (x)"
   ]
  },
  {
   "cell_type": "markdown",
   "metadata": {},
   "source": [
    "### Creating random values"
   ]
  },
  {
   "cell_type": "code",
   "execution_count": 23,
   "metadata": {},
   "outputs": [
    {
     "name": "stdout",
     "output_type": "stream",
     "text": [
      "[[ 0.99524966  0.20341905  0.28863288]\n",
      " [ 0.55785824  0.34202705  0.88157969]\n",
      " [ 0.24012058  0.79306612  0.39821037]]\n"
     ]
    }
   ],
   "source": [
    "x = np.random.random((3,3))\n",
    "print (x)"
   ]
  },
  {
   "cell_type": "markdown",
   "metadata": {},
   "source": [
    "`randint` takes 3 arguments\n",
    "`np.random.randint(LowerBound, UpperBound, (shape))`\n",
    "LowerBound - Inclusive\n",
    "UpperBound - Exclusive"
   ]
  },
  {
   "cell_type": "code",
   "execution_count": 24,
   "metadata": {},
   "outputs": [
    {
     "name": "stdout",
     "output_type": "stream",
     "text": [
      "[[ 6  4]\n",
      " [10 11]\n",
      " [ 8  8]]\n"
     ]
    }
   ],
   "source": [
    "x = np.random.randint(4, 15, (3, 2))\n",
    "print (x)"
   ]
  },
  {
   "cell_type": "markdown",
   "metadata": {},
   "source": [
    "Create random number array with given mean and statndard deviation\n",
    "\n",
    "mean = 0\n",
    "standard deviation = 0.1"
   ]
  },
  {
   "cell_type": "code",
   "execution_count": 25,
   "metadata": {},
   "outputs": [
    {
     "name": "stdout",
     "output_type": "stream",
     "text": [
      "[[-0.10564314 -0.09144132  0.12767337 ..., -0.05551705  0.21651586\n",
      "   0.08088029]\n",
      " [-0.03743322 -0.1325416   0.13595293 ...,  0.03493501  0.09219395\n",
      "   0.01672728]\n",
      " [-0.07878196  0.04609144  0.01181563 ...,  0.0336763   0.01450461\n",
      "  -0.04203852]\n",
      " ..., \n",
      " [ 0.01994166 -0.01859801  0.14895094 ...,  0.20258664 -0.00995924\n",
      "  -0.08437954]\n",
      " [ 0.03259374  0.05583825  0.02798297 ...,  0.04024336 -0.00968506\n",
      "  -0.09047441]\n",
      " [-0.05880993 -0.10434932  0.00921925 ...,  0.06047589 -0.00393775\n",
      "   0.04808664]]\n"
     ]
    }
   ],
   "source": [
    "x = np.random.normal(0, 0.1, size=(1000, 1000))\n",
    "print (x)"
   ]
  },
  {
   "cell_type": "code",
   "execution_count": 26,
   "metadata": {},
   "outputs": [
    {
     "name": "stdout",
     "output_type": "stream",
     "text": [
      "mean:  -3.47032509932e-05\n",
      "std:  0.10009683457\n",
      "max:  0.481767073103\n",
      "min:  -0.490900494298\n",
      "# Positive:  499872\n",
      "# Negative:  500128\n"
     ]
    }
   ],
   "source": [
    "print('mean: ', x.mean())\n",
    "print('std: ', x.std())\n",
    "print('max: ', x.max())\n",
    "print('min: ', x.min())\n",
    "print('# Positive: ', (x > 0).sum())\n",
    "print('# Negative: ', (x < 0).sum())"
   ]
  }
 ],
 "metadata": {
  "kernelspec": {
   "display_name": "Python [conda env:facts]",
   "language": "python",
   "name": "conda-env-facts-py"
  },
  "language_info": {
   "codemirror_mode": {
    "name": "ipython",
    "version": 3
   },
   "file_extension": ".py",
   "mimetype": "text/x-python",
   "name": "python",
   "nbconvert_exporter": "python",
   "pygments_lexer": "ipython3",
   "version": "3.6.6"
  }
 },
 "nbformat": 4,
 "nbformat_minor": 2
}
